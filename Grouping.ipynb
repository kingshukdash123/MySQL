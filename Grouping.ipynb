{
 "cells": [
  {
   "cell_type": "code",
   "execution_count": null,
   "id": "4855c10a",
   "metadata": {
    "vscode": {
     "languageId": "sql"
    }
   },
   "outputs": [],
   "source": [
    "SELECT brand_name, COUNT(*) AS 'count' \n",
    "FROM campusx.smartphones \n",
    "GROUP BY brand_name \n",
    "ORDER BY count DESC"
   ]
  },
  {
   "cell_type": "code",
   "execution_count": null,
   "id": "26411401",
   "metadata": {
    "vscode": {
     "languageId": "sql"
    }
   },
   "outputs": [],
   "source": [
    "SELECT\n",
    "brand_name, \n",
    "processor_brand, \n",
    "COUNT(*) as 'count',\n",
    "AVG(price)\n",
    "FROM campusx.smartphones \n",
    "GROUP BY brand_name, processor_brand\n",
    "ORDER BY brand_name ASC"
   ]
  }
 ],
 "metadata": {
  "language_info": {
   "name": "python"
  }
 },
 "nbformat": 4,
 "nbformat_minor": 5
}
