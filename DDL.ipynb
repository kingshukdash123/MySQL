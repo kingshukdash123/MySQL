{
 "cells": [
  {
   "cell_type": "markdown",
   "id": "c7b2f036",
   "metadata": {},
   "source": [
    "## Create Database"
   ]
  },
  {
   "cell_type": "code",
   "execution_count": null,
   "id": "efeaa717",
   "metadata": {
    "vscode": {
     "languageId": "sql"
    }
   },
   "outputs": [],
   "source": [
    "CREATE DATABASE campusx \n",
    "CREATE DATABASE IF NOT EXISTS campusx"
   ]
  },
  {
   "cell_type": "markdown",
   "id": "e4a163d0",
   "metadata": {},
   "source": [
    "## Drop Databse"
   ]
  },
  {
   "cell_type": "code",
   "execution_count": null,
   "id": "0c24efd1",
   "metadata": {
    "vscode": {
     "languageId": "sql"
    }
   },
   "outputs": [],
   "source": [
    "- DROP DATABASE campusx\n",
    "- DROP DATABASE IF EXISTS campusx"
   ]
  },
  {
   "cell_type": "markdown",
   "id": "8bfabbd3",
   "metadata": {
    "vscode": {
     "languageId": "plaintext"
    }
   },
   "source": [
    "## Create Table"
   ]
  },
  {
   "cell_type": "code",
   "execution_count": null,
   "id": "e4a3da11",
   "metadata": {
    "vscode": {
     "languageId": "sql"
    }
   },
   "outputs": [],
   "source": [
    "CREATE TABLE users(\n",
    "    user_id INTEGER, \n",
    "    name VARCHAR(255), \n",
    "    email VARCHAR(255), \n",
    "    password VARCHAR(255)\n",
    ")"
   ]
  },
  {
   "cell_type": "markdown",
   "id": "49783f34",
   "metadata": {
    "vscode": {
     "languageId": "sql"
    }
   },
   "source": [
    "## Truncate Table"
   ]
  },
  {
   "cell_type": "code",
   "execution_count": null,
   "id": "811040b5",
   "metadata": {
    "vscode": {
     "languageId": "sql"
    }
   },
   "outputs": [],
   "source": [
    "TRUNCATE TABLE users"
   ]
  },
  {
   "cell_type": "markdown",
   "id": "25184263",
   "metadata": {},
   "source": [
    "## Drop Table"
   ]
  },
  {
   "cell_type": "code",
   "execution_count": null,
   "id": "d74c00ff",
   "metadata": {
    "vscode": {
     "languageId": "sql"
    }
   },
   "outputs": [],
   "source": [
    "DROP TABLE IF EXISTS users"
   ]
  },
  {
   "cell_type": "markdown",
   "id": "96ac216f",
   "metadata": {
    "vscode": {
     "languageId": "sql"
    }
   },
   "source": [
    "## Data Integrity (Constraints)\n",
    "- NOT NULL\n",
    "- UNIQUE\n",
    "- PRIMARY KEY\n",
    "- AUTO INCREMENT\n",
    "- CHECK\n",
    "- DEFAULT\n",
    "- FOREIGN KEY (RESTRICT, CASCADE, SET NULL, SET DEFAULT)"
   ]
  },
  {
   "cell_type": "code",
   "execution_count": null,
   "id": "2163eb9f",
   "metadata": {
    "vscode": {
     "languageId": "sql"
    }
   },
   "outputs": [],
   "source": [
    "CREATE TABLE users(\n",
    "    user_id INTEGER NOT NULL, \n",
    "    name VARCHAR(255) NOT NULL, \n",
    "    email VARCHAR(255) NOT NULl UNIQUE, \n",
    "    password VARCHAR(255) NOT NULl\n",
    ")\n",
    "\n",
    "\n",
    "-----------\n",
    "\n",
    "\n",
    "CREATE TABLE users(\n",
    "    user_id INTEGER NOT NULL, \n",
    "    name VARCHAR(255) NOT NULL, \n",
    "    email VARCHAR(255) NOT NULL, \n",
    "    password VARCHAR(255) NOT NULL, \n",
    "\n",
    "    CONSTRAINT user_name_email_unique UNIQUE (name, email)\n",
    "    CONSTRAINT users.pk PRIMARY KEY (user_id)\n",
    ")"
   ]
  },
  {
   "cell_type": "code",
   "execution_count": null,
   "id": "94a0908c",
   "metadata": {
    "vscode": {
     "languageId": "sql"
    }
   },
   "outputs": [],
   "source": [
    "--- CHECK Constraint\n",
    "CREATE TABLE students(\n",
    "    student_id INTEGER PRIMARY KEY AUTO_INCREMENT, \n",
    "    name VARCHAR(255) NOT NULL, \n",
    "    age INTEGER, \n",
    "\n",
    "    CONSTRAINT student_age_check CHECK (age > 6 AND age < 25)\n",
    ")"
   ]
  },
  {
   "cell_type": "code",
   "execution_count": null,
   "id": "aafcb6f1",
   "metadata": {
    "vscode": {
     "languageId": "sql"
    }
   },
   "outputs": [],
   "source": [
    "--- FOREIGN KEY\n",
    "CREATE TABLE customers(\n",
    "    cid INTEGER PRIMARY KEY AUTO_INCREMENT, \n",
    "    name VARCHAR(255) NOT NULL, \n",
    "    email VARCHAR(255) NOT NULL UNIQUE\n",
    ")\n",
    "\n",
    "\n",
    "CREATE TABLE orders(\n",
    "    order_id INTEGER PRIMARY KEY AUTO_INCREMENT, \n",
    "    cid INTEGER NOT NULL, \n",
    "    order_date DATETIME NOT NULL DEFAULT CURRENT_TIMESTAMP, \n",
    "\n",
    "    CONSTRAINT orders_fk \n",
    "        FOREIGN KEY (cid) \n",
    "        REFERENCES customers(cid)\n",
    "        ON DELETE CASCADE\n",
    "        ON UPDATE CASCADE\n",
    ")"
   ]
  },
  {
   "cell_type": "markdown",
   "id": "f18ccb96",
   "metadata": {},
   "source": [
    "## Alter Table (Add Column)"
   ]
  },
  {
   "cell_type": "code",
   "execution_count": null,
   "id": "013f4737",
   "metadata": {
    "vscode": {
     "languageId": "sql"
    }
   },
   "outputs": [],
   "source": [
    "ALTER TABLE customers ADD COLUMN surname VARCHAR(255) NOT NULL AFTER name\n",
    "\n",
    "---\n",
    "\n",
    "ALTER TABLE customers ADD COLUMN surname VARCHAR(255) NOT NULL BEFORE name\n",
    "\n",
    "---\n",
    "\n",
    "ALTER TABLE customers\n",
    "ADD COLUMN pan_number VARCHAR(255) AFTER name,\n",
    "ADD COLUMN joining_date DATETIME NOT NULL DEFAULT CURRENT_TIMESTAMP"
   ]
  },
  {
   "cell_type": "markdown",
   "id": "7486d3e5",
   "metadata": {},
   "source": [
    "## Alter Table (Delete Column)"
   ]
  },
  {
   "cell_type": "code",
   "execution_count": null,
   "id": "28e34967",
   "metadata": {
    "vscode": {
     "languageId": "sql"
    }
   },
   "outputs": [],
   "source": [
    "ALTER TABLE customers \n",
    "DROP COLUMN pan_number, \n",
    "DROP COLUMN joining_date"
   ]
  },
  {
   "cell_type": "markdown",
   "id": "d9aca046",
   "metadata": {},
   "source": [
    "## Alter Table (Modify Column)"
   ]
  },
  {
   "cell_type": "code",
   "execution_count": null,
   "id": "cd9d2d0a",
   "metadata": {
    "vscode": {
     "languageId": "sql"
    }
   },
   "outputs": [],
   "source": [
    "ALTER TABLE customers\n",
    "MODIFY COLUMN surname INTEGER"
   ]
  },
  {
   "cell_type": "markdown",
   "id": "8de295dd",
   "metadata": {
    "vscode": {
     "languageId": "sql"
    }
   },
   "source": [
    "## Alter Table (Add & Drop Constraint)"
   ]
  },
  {
   "cell_type": "code",
   "execution_count": null,
   "id": "e1eef860",
   "metadata": {
    "vscode": {
     "languageId": "sql"
    }
   },
   "outputs": [],
   "source": [
    "ALTER TABLE customers ADD CONSTRAINT customer_age_check CHECK (age > 6)\n",
    "\n",
    "---\n",
    "\n",
    "ALTER TABLE customers DROP CONSTRAINT customer_age_check"
   ]
  }
 ],
 "metadata": {
  "language_info": {
   "name": "python"
  }
 },
 "nbformat": 4,
 "nbformat_minor": 5
}
