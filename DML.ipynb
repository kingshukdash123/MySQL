{
 "cells": [
  {
   "cell_type": "markdown",
   "id": "b0c8770c",
   "metadata": {},
   "source": [
    "## CREATE"
   ]
  },
  {
   "cell_type": "code",
   "execution_count": null,
   "id": "c46747a0",
   "metadata": {
    "vscode": {
     "languageId": "sql"
    }
   },
   "outputs": [],
   "source": [
    "--- Insert single data\n",
    "INSERT INTO campusx.users (user_id, name, email, password)\n",
    "VALUES (NULL, 'nitish', 'nitish@gmail.com', '123')\n",
    "\n",
    "--- Insert multiple data\n",
    "INSERT INTO campusx.users \n",
    "VALUES \n",
    "(NULL, 'a', 'a@gmail.com', '123'),\n",
    "(NULL, 'b', 'b@gmail.com', '123'),\n",
    "(NULL, 'c', 'c@gmail.com', '123')"
   ]
  },
  {
   "cell_type": "markdown",
   "id": "47cb1e52",
   "metadata": {},
   "source": [
    "## RETREIVE"
   ]
  },
  {
   "cell_type": "markdown",
   "id": "62e0d176",
   "metadata": {},
   "source": [
    "### Select operation on columns"
   ]
  },
  {
   "cell_type": "code",
   "execution_count": null,
   "id": "7b4b7999",
   "metadata": {
    "vscode": {
     "languageId": "sql"
    }
   },
   "outputs": [],
   "source": [
    "--- Select all the rows and columns\n",
    "SELECT * FROM campusx.smartphones WHERE 1\n",
    "\n",
    "--- Select specific columns\n",
    "SELECT model, price, rating FROM campusx.smartphones \n",
    "\n",
    "--- Display custom column name\n",
    "SELECT model AS 'Company name', price, rating AS 'Rating from customers' FROM campusx.smartphones \n",
    "\n",
    "--- Run mathematical expressions\n",
    "SELECT model, \n",
    "SQRT(resolution_width*resolution_width + resolution_height*resolution_height)/screen_size AS 'ppi'\n",
    "FROM campusx.smartphones\n",
    "\n",
    "--- Add a constant column\n",
    "SELECT model, 'smartphone' AS 'type' FROM campusx.smartphones \n",
    "\n",
    "--- Fetch all unique values\n",
    "SELECT DISTINCT(brand_name) FROM campusx.smartphones \n",
    "\n",
    "--- Fetch all unique combos\n",
    "SELECT DISTINCT brand_name,model FROM campusx.smartphones "
   ]
  },
  {
   "cell_type": "markdown",
   "id": "eb1c6b30",
   "metadata": {},
   "source": [
    "### Select operation on rows"
   ]
  },
  {
   "cell_type": "code",
   "execution_count": null,
   "id": "45a464be",
   "metadata": {
    "vscode": {
     "languageId": "sql"
    }
   },
   "outputs": [],
   "source": [
    "--- Select only samsung brand\n",
    "SELECT * FROM campusx.smartphones WHERE brand_name = 'samsung'\n",
    "\n",
    "--- IN / NOT IN \n",
    "SELECT * FROM campusx.smartphones WHERE processor_brand IN ('snapdragon', 'exynos', 'bionic')"
   ]
  },
  {
   "cell_type": "markdown",
   "id": "50c6ee0b",
   "metadata": {},
   "source": [
    "### Execution order of all the queries in MySQL\n",
    "> FROM -> JOIN -> WHERE -> GROUP BY -> HAVING -> SELECT -> DISTINCT -> ORDER BY"
   ]
  },
  {
   "cell_type": "markdown",
   "id": "c093442c",
   "metadata": {},
   "source": [
    "## UPDATE"
   ]
  },
  {
   "cell_type": "code",
   "execution_count": null,
   "id": "58c0baaf",
   "metadata": {
    "vscode": {
     "languageId": "sql"
    }
   },
   "outputs": [],
   "source": [
    "UPDATE campusx.smartphones\n",
    "SET processor_brand = 'dimensity'\n",
    "WHERE processor_brand = 'mediatek'"
   ]
  },
  {
   "cell_type": "markdown",
   "id": "1f8502b5",
   "metadata": {
    "vscode": {
     "languageId": "sql"
    }
   },
   "source": [
    "## DELETE"
   ]
  },
  {
   "cell_type": "code",
   "execution_count": null,
   "id": "e6c7fe8b",
   "metadata": {
    "vscode": {
     "languageId": "sql"
    }
   },
   "outputs": [],
   "source": [
    "DELETE FROM campusx.smartphones\n",
    "WHERE brand_name = 'samsung' AND primary_camera_rear > 150"
   ]
  }
 ],
 "metadata": {
  "language_info": {
   "name": "python"
  }
 },
 "nbformat": 4,
 "nbformat_minor": 5
}
