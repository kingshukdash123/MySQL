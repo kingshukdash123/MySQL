{
 "cells": [
  {
   "cell_type": "markdown",
   "id": "1b26bd0e",
   "metadata": {
    "vscode": {
     "languageId": "plaintext"
    }
   },
   "source": [
    "## CROSS JOIN"
   ]
  },
  {
   "cell_type": "code",
   "execution_count": null,
   "id": "ce8d81dd",
   "metadata": {
    "vscode": {
     "languageId": "sql"
    }
   },
   "outputs": [],
   "source": [
    "SELECT * FROM demo1_campusx.users1 t1\n",
    "CROSS JOIN demo1_campusx.groups t2"
   ]
  },
  {
   "cell_type": "markdown",
   "id": "39c58173",
   "metadata": {},
   "source": [
    "## INNER JOIN"
   ]
  },
  {
   "cell_type": "code",
   "execution_count": null,
   "id": "d256143d",
   "metadata": {
    "vscode": {
     "languageId": "sql"
    }
   },
   "outputs": [],
   "source": [
    "SELECT * FROM demo1_campusx.membership t1\n",
    "INNER JOIN demo1_campusx.users1 t2\n",
    "ON t1.user_id = t2.user_id"
   ]
  },
  {
   "cell_type": "markdown",
   "id": "1e6a8079",
   "metadata": {},
   "source": [
    "## LEFT JOIN"
   ]
  },
  {
   "cell_type": "code",
   "execution_count": null,
   "id": "bb981867",
   "metadata": {
    "vscode": {
     "languageId": "sql"
    }
   },
   "outputs": [],
   "source": [
    "SELECT * FROM demo1_campusx.membership t1\n",
    "LEFT JOIN demo1_campusx.users1 t2\n",
    "ON t1.user_id = t2.user_id"
   ]
  },
  {
   "cell_type": "markdown",
   "id": "397a3cb2",
   "metadata": {
    "vscode": {
     "languageId": "sql"
    }
   },
   "source": [
    "## RIGHT JOIN"
   ]
  },
  {
   "cell_type": "code",
   "execution_count": null,
   "id": "b8c1bef2",
   "metadata": {
    "vscode": {
     "languageId": "sql"
    }
   },
   "outputs": [],
   "source": [
    "SELECT * FROM demo1_campusx.membership t1\n",
    "RIGHT JOIN demo1_campusx.users1 t2\n",
    "ON t1.user_id = t2.user_id"
   ]
  },
  {
   "cell_type": "markdown",
   "id": "8e1a59c3",
   "metadata": {},
   "source": [
    "## FULL OUTER JOIN"
   ]
  },
  {
   "cell_type": "code",
   "execution_count": null,
   "id": "52687400",
   "metadata": {
    "vscode": {
     "languageId": "sql"
    }
   },
   "outputs": [],
   "source": [
    "SELECT * FROM demo1_campusx.membership t1\n",
    "LEFT JOIN demo1_campusx.users1 t2\n",
    "ON t1.user_id = t2.user_id\n",
    "UNION\n",
    "SELECT * FROM demo1_campusx.membership t1\n",
    "RIGHT JOIN demo1_campusx.users1 t2\n",
    "ON t1.user_id = t2.user_id"
   ]
  },
  {
   "cell_type": "markdown",
   "id": "cf335318",
   "metadata": {
    "vscode": {
     "languageId": "sql"
    }
   },
   "source": [
    "## SELF JOIN"
   ]
  },
  {
   "cell_type": "code",
   "execution_count": null,
   "id": "17eb8eaa",
   "metadata": {
    "vscode": {
     "languageId": "sql"
    }
   },
   "outputs": [],
   "source": [
    "SELECT t1.name, t2.name AS 'emergency' FROM demo1_campusx.users1 t1\n",
    "JOIN demo1_campusx.users1 t2\n",
    "ON t1.emergency_contact = t2.user_id"
   ]
  },
  {
   "cell_type": "markdown",
   "id": "2b9deeab",
   "metadata": {
    "vscode": {
     "languageId": "sql"
    }
   },
   "source": [
    "## ADVANCE JOIN"
   ]
  },
  {
   "cell_type": "code",
   "execution_count": null,
   "id": "6e0702ec",
   "metadata": {
    "vscode": {
     "languageId": "sql"
    }
   },
   "outputs": [],
   "source": [
    "--- Joining on more than one cols\n",
    "SELECT * FROM demo1_campusx.students t1\n",
    "JOIN demo1_campusx.class t2\n",
    "ON t1.class_id = t2.class_id AND t1.enrollment_year = t2.class_year\n",
    "\n",
    "--- Joining more than 2 tables\n",
    "SELECT t1.category_id, t4.name FROM flipkart_campusx.category t1\n",
    "JOIN flipkart_campusx.order_details t2\n",
    "ON t1.category_id = t2.category_id\n",
    "JOIN flipkart_campusx.orders t3\n",
    "ON t2.order_id = t3.order_id\n",
    "JOIN flipkart_campusx.users t4\n",
    "ON t3.user_id = t4.user_id"
   ]
  },
  {
   "cell_type": "markdown",
   "id": "ecba645a",
   "metadata": {},
   "source": [
    "## SET Operations"
   ]
  },
  {
   "cell_type": "code",
   "execution_count": null,
   "id": "3ce56b53",
   "metadata": {
    "vscode": {
     "languageId": "sql"
    }
   },
   "outputs": [],
   "source": [
    "--- UNION\n",
    "SELECT * FROM demo1_campusx.person1\n",
    "UNION\n",
    "SELECT * FROM demo1_campusx.person2\n",
    "\n",
    "--- UNION ALL\n",
    "SELECT * FROM demo1_campusx.person1\n",
    "UNION ALL\n",
    "SELECT * FROM demo1_campusx.person2\n",
    "\n",
    "-INTERSECT\n",
    "SELECT * FROM demo1_campusx.person1\n",
    "INTERSECT\n",
    "SELECT * FROM demo1_campusx.person2"
   ]
  }
 ],
 "metadata": {
  "language_info": {
   "name": "python"
  }
 },
 "nbformat": 4,
 "nbformat_minor": 5
}
