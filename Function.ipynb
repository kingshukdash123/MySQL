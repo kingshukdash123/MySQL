{
 "cells": [
  {
   "cell_type": "markdown",
   "id": "d55e0b3a",
   "metadata": {},
   "source": [
    "## Aggregate Functions"
   ]
  },
  {
   "cell_type": "code",
   "execution_count": null,
   "id": "7847f8c0",
   "metadata": {
    "vscode": {
     "languageId": "sql"
    }
   },
   "outputs": [],
   "source": [
    "--- SELECT MIN(ram_capacity) FROM campusx.smartphones\n",
    "\n",
    "MIN()\n",
    "MAX()\n",
    "AVG()\n",
    "SUM()\n",
    "COUNT()\n",
    "COUNT(DISTINCT)\n",
    "STD()\n",
    "VAR()"
   ]
  },
  {
   "cell_type": "markdown",
   "id": "8ca9ea14",
   "metadata": {
    "vscode": {
     "languageId": "sql"
    }
   },
   "source": [
    "## Scalar Functions"
   ]
  },
  {
   "cell_type": "code",
   "execution_count": null,
   "id": "32826d33",
   "metadata": {
    "vscode": {
     "languageId": "sql"
    }
   },
   "outputs": [],
   "source": [
    "ABS()\n",
    "ROUND()\n",
    "CEIL/FLOOR()"
   ]
  }
 ],
 "metadata": {
  "language_info": {
   "name": "python"
  }
 },
 "nbformat": 4,
 "nbformat_minor": 5
}
