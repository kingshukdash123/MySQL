{
 "cells": [
  {
   "cell_type": "code",
   "execution_count": null,
   "id": "ba8eb7e3",
   "metadata": {
    "vscode": {
     "languageId": "sql"
    }
   },
   "outputs": [],
   "source": [
    "SELECT model, screen_size FROM campusx.smartphones \n",
    "WHERE brand_name = 'samsung'\n",
    "ORDER BY screen_size DESC LIMIT 5   --- LIMIT is as same as head in pandas"
   ]
  }
 ],
 "metadata": {
  "language_info": {
   "name": "python"
  }
 },
 "nbformat": 4,
 "nbformat_minor": 5
}
