{
 "cells": [
  {
   "cell_type": "markdown",
   "id": "655ad8bf",
   "metadata": {
    "vscode": {
     "languageId": "sql"
    }
   },
   "source": [
    "### WHERE in SELECT -> HAVING in  GROUP BY"
   ]
  },
  {
   "cell_type": "code",
   "execution_count": null,
   "id": "b7ef395a",
   "metadata": {
    "vscode": {
     "languageId": "sql"
    }
   },
   "outputs": [],
   "source": [
    "SELECT brand_name, COUNT(*) AS 'count', AVG(price) AS 'avg_price'\n",
    "FROM campusx.smartphones \n",
    "GROUP BY brand_name\n",
    "HAVING count > 20\n",
    "ORDER BY avg_price DESC"
   ]
  },
  {
   "cell_type": "code",
   "execution_count": null,
   "id": "da39a58c",
   "metadata": {
    "vscode": {
     "languageId": "sql"
    }
   },
   "outputs": [],
   "source": [
    "SELECT brand_name, count(*) AS count, AVG(ram_capacity) AS 'avg_ram'\n",
    "FROM campusx.smartphones \n",
    "WHERE refresh_rate >= 90 AND fast_charging_available = 1\n",
    "GROUP BY brand_name\n",
    "HAVING count >= 10\n",
    "ORDER BY avg_ram DESC"
   ]
  }
 ],
 "metadata": {
  "language_info": {
   "name": "python"
  }
 },
 "nbformat": 4,
 "nbformat_minor": 5
}
