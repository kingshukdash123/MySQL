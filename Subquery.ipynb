{
 "cells": [
  {
   "cell_type": "code",
   "execution_count": null,
   "id": "052e0e04",
   "metadata": {
    "vscode": {
     "languageId": "sql"
    }
   },
   "outputs": [],
   "source": [
    "SELECT * FROM campusx.movies\n",
    "WHERE score = (SELECT MAX(score) FROM campusx.movies)"
   ]
  },
  {
   "cell_type": "markdown",
   "id": "d4dd998b",
   "metadata": {},
   "source": [
    "## Types of Subquery on the basis of returned data\n",
    "- Scalar subquery\n",
    "- Row subquery\n",
    "- Table subquery\n",
    "\n",
    "## Types of Subquery on the basis of working\n",
    "- Independent subquery\n",
    "- Correlated subquery"
   ]
  },
  {
   "cell_type": "code",
   "execution_count": null,
   "id": "d7e5f5b0",
   "metadata": {
    "vscode": {
     "languageId": "sql"
    }
   },
   "outputs": [],
   "source": [
    "--- Independent subquery\n",
    "SELECT * FROM movies\n",
    "WHERE score = (\n",
    "    SELECT MAX(score) FROM movies\n",
    "    WHERE votes > (\n",
    "        SELECT AVG(votes) FROM movies\n",
    "    )\n",
    ")\n",
    "\n",
    "--- Correlated subquery\n",
    "WITH fav_food AS (\n",
    "    SELECT t2.user_id, name, f_name, COUNT(*) AS 'frequency' FROM users t1\n",
    "    JOIN orders t2 ON t1.user_id = t2.user_id\n",
    "    JOIN order_details t3 ON t2.order_id = t3.order_id\n",
    "    JOIN food t4 ON t3.f_id = t4.f_id\n",
    "    GROUP BY t2.user_id, t3.f_id\n",
    ")\n",
    "\n",
    "SELECT * FROM fav_food f1\n",
    "WHERE frequency = (\n",
    "    SELECT MAX(frequency) FROM fav_food f2\n",
    "    WHERE f2.user_id = f1.user_id\n",
    ")\n"
   ]
  }
 ],
 "metadata": {
  "language_info": {
   "name": "python"
  }
 },
 "nbformat": 4,
 "nbformat_minor": 5
}
